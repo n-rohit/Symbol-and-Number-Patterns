{
 "cells": [
  {
   "cell_type": "markdown",
   "metadata": {},
   "source": [
    "# Priniting Different Patters of Triangles in Python\n",
    "---\n",
    "---"
   ]
  },
  {
   "cell_type": "code",
   "execution_count": 10,
   "metadata": {},
   "outputs": [
    {
     "name": "stdout",
     "output_type": "stream",
     "text": [
      "*\n",
      "**\n",
      "***\n",
      "****\n",
      "*****\n"
     ]
    }
   ],
   "source": [
    "def star_pattern_left(totalrows):\n",
    "    for row in range(1,totalrows+1):\n",
    "        for symbol in range(1, row+1):\n",
    "            print('*', end='')\n",
    "        # for space in range(1, (totalrows-row)+1):\n",
    "        #     print(' ', end='')\n",
    "        print()\n",
    "\n",
    "star_pattern_left(5)"
   ]
  },
  {
   "cell_type": "markdown",
   "metadata": {},
   "source": [
    "                                                                            OR  "
   ]
  },
  {
   "cell_type": "code",
   "execution_count": 11,
   "metadata": {},
   "outputs": [
    {
     "data": {
      "text/plain": [
       "\"\\ndef star_pattern_left(totalrows):\\n    list = []\\n    for row in range(1, totalrows+1):\\n        list.append('*')\\n        print(''.join(list))\\n    print('\\n')\\n\""
      ]
     },
     "execution_count": 11,
     "metadata": {},
     "output_type": "execute_result"
    }
   ],
   "source": [
    "'''\n",
    "def star_pattern_left(totalrows):\n",
    "    list = []\n",
    "    for row in range(1, totalrows+1):\n",
    "        list.append('*')\n",
    "        print(''.join(list))\n",
    "    print('\\n')\n",
    "'''"
   ]
  },
  {
   "cell_type": "markdown",
   "metadata": {},
   "source": [
    "---"
   ]
  },
  {
   "cell_type": "code",
   "execution_count": 12,
   "metadata": {},
   "outputs": [
    {
     "name": "stdout",
     "output_type": "stream",
     "text": [
      "1\n",
      "12\n",
      "123\n",
      "1234\n",
      "12345\n"
     ]
    }
   ],
   "source": [
    "def num_pattern_left(totalrows):\n",
    "    for row in range(1,totalrows+1):\n",
    "        for nums in range(1, row+1):\n",
    "            print('{0}'.format(nums), end='')\n",
    "        # for space in range(1, row+1):\n",
    "        #     print(' ', end='')\n",
    "        print()\n",
    "\n",
    "num_pattern_left(5)"
   ]
  },
  {
   "cell_type": "markdown",
   "metadata": {},
   "source": [
    "                                                                            OR  "
   ]
  },
  {
   "cell_type": "code",
   "execution_count": 13,
   "metadata": {},
   "outputs": [
    {
     "data": {
      "text/plain": [
       "\"\\ndef num_pattern_left(totalrows):\\n    list = []\\n    for row in range(totalrows):\\n        list.append(str(row+1))\\n        print(''.join(list))\\n    print('\\n')\\n\""
      ]
     },
     "execution_count": 13,
     "metadata": {},
     "output_type": "execute_result"
    }
   ],
   "source": [
    "'''\n",
    "def num_pattern_left(totalrows):\n",
    "    list = []\n",
    "    for row in range(totalrows):\n",
    "        list.append(str(row+1))\n",
    "        print(''.join(list))\n",
    "    print('\\n')\n",
    "'''"
   ]
  },
  {
   "cell_type": "markdown",
   "metadata": {},
   "source": [
    "---"
   ]
  },
  {
   "cell_type": "code",
   "execution_count": 14,
   "metadata": {},
   "outputs": [
    {
     "name": "stdout",
     "output_type": "stream",
     "text": [
      "*****\n",
      "****\n",
      "***\n",
      "**\n",
      "*\n"
     ]
    }
   ],
   "source": [
    "def star_pattern_left_reverse(totalrows):\n",
    "    for row in range(1,totalrows+1):\n",
    "        for symbol in range(1, (totalrows-row)+2):\n",
    "            print('*', end='')\n",
    "        # for space in range(1, row+1):\n",
    "        #     print(' ', end='')\n",
    "        print()\n",
    "\n",
    "star_pattern_left_reverse(5)"
   ]
  },
  {
   "cell_type": "markdown",
   "metadata": {},
   "source": [
    "---"
   ]
  },
  {
   "cell_type": "code",
   "execution_count": 15,
   "metadata": {},
   "outputs": [
    {
     "name": "stdout",
     "output_type": "stream",
     "text": [
      "12345\n",
      "1234\n",
      "123\n",
      "12\n",
      "1\n"
     ]
    }
   ],
   "source": [
    "def num_pattern_left_reverse(totalrows):\n",
    "    for row in range(1,totalrows+1):\n",
    "        for nums in range(1, (totalrows-row)+2):\n",
    "            print('{0}'.format(nums), end='')\n",
    "        # for space in range(1, row+1):\n",
    "        #     print(' ', end='')\n",
    "        print()\n",
    "\n",
    "num_pattern_left_reverse(5)"
   ]
  },
  {
   "cell_type": "markdown",
   "metadata": {},
   "source": [
    "---"
   ]
  },
  {
   "cell_type": "code",
   "execution_count": 16,
   "metadata": {},
   "outputs": [
    {
     "name": "stdout",
     "output_type": "stream",
     "text": [
      "    *\n",
      "   **\n",
      "  ***\n",
      " ****\n",
      "*****\n"
     ]
    }
   ],
   "source": [
    "def star_pattern_right(totalrows):\n",
    "    for row in range(1,totalrows+1):\n",
    "        for space in range(1, (totalrows-row)+1):\n",
    "            print(' ', end='')\n",
    "        for symbol in range(1, row+1):\n",
    "            print('*', end='')\n",
    "        print()\n",
    "\n",
    "star_pattern_right(5)"
   ]
  },
  {
   "cell_type": "markdown",
   "metadata": {},
   "source": [
    "---"
   ]
  },
  {
   "cell_type": "code",
   "execution_count": 17,
   "metadata": {},
   "outputs": [
    {
     "name": "stdout",
     "output_type": "stream",
     "text": [
      "    1\n",
      "   12\n",
      "  123\n",
      " 1234\n",
      "12345\n"
     ]
    }
   ],
   "source": [
    "def num_pattern_right(totalrows):\n",
    "    for row in range(1,totalrows+1):\n",
    "        for space in range(1, (totalrows-row)+1):\n",
    "            print(' ', end='')\n",
    "        for nums in range(1, row+1):\n",
    "            print('{0}'.format(nums), end='')\n",
    "        print()\n",
    "\n",
    "num_pattern_right(5)"
   ]
  },
  {
   "cell_type": "markdown",
   "metadata": {},
   "source": [
    "---"
   ]
  },
  {
   "cell_type": "code",
   "execution_count": 18,
   "metadata": {},
   "outputs": [
    {
     "name": "stdout",
     "output_type": "stream",
     "text": [
      "*****\n",
      " ****\n",
      "  ***\n",
      "   **\n",
      "    *\n"
     ]
    }
   ],
   "source": [
    "def star_pattern_right_reverse(totalrows):\n",
    "    for row in range(1,totalrows+1):\n",
    "        for space in range(2, row+1):\n",
    "            print(' ', end='')\n",
    "        for symbol in range(1, (totalrows-row)+2):\n",
    "            print('*', end='')\n",
    "        print()\n",
    "\n",
    "star_pattern_right_reverse(5)"
   ]
  },
  {
   "cell_type": "markdown",
   "metadata": {},
   "source": [
    "---"
   ]
  },
  {
   "cell_type": "code",
   "execution_count": 21,
   "metadata": {},
   "outputs": [
    {
     "name": "stdout",
     "output_type": "stream",
     "text": [
      "12345\n",
      " 1234\n",
      "  123\n",
      "   12\n",
      "    1\n"
     ]
    }
   ],
   "source": [
    "def num_pattern_right_reverse(totalrows):\n",
    "    for row in range(1,totalrows+1):\n",
    "        for space in range(2, row+1):\n",
    "            print(' ', end='')\n",
    "        for nums in range(1, (totalrows-row)+2):\n",
    "            print('{0}'.format(nums), end='')\n",
    "        print()\n",
    "\n",
    "num_pattern_right_reverse(5)"
   ]
  },
  {
   "cell_type": "markdown",
   "metadata": {},
   "source": [
    "---"
   ]
  },
  {
   "cell_type": "code",
   "execution_count": 22,
   "metadata": {},
   "outputs": [
    {
     "name": "stdout",
     "output_type": "stream",
     "text": [
      "    * \n",
      "   * * \n",
      "  * * * \n",
      " * * * * \n",
      "* * * * * \n"
     ]
    }
   ],
   "source": [
    "def star_pattern_center(totalrows): # Similar to --> star_pattern_right (change from end='' to end=' ')\n",
    "    for row in range(1,totalrows+1):\n",
    "        for space in range(1, (totalrows-row)+1):\n",
    "            print(' ', end='')\n",
    "        for symbol in range(1, row+1):\n",
    "            print('*', end=' ')\n",
    "        print()\n",
    "\n",
    "star_pattern_center(5)"
   ]
  },
  {
   "cell_type": "markdown",
   "metadata": {},
   "source": [
    "---"
   ]
  },
  {
   "cell_type": "code",
   "execution_count": 23,
   "metadata": {},
   "outputs": [
    {
     "name": "stdout",
     "output_type": "stream",
     "text": [
      "    1 \n",
      "   1 2 \n",
      "  1 2 3 \n",
      " 1 2 3 4 \n",
      "1 2 3 4 5 \n"
     ]
    }
   ],
   "source": [
    "def num_pattern_center(totalrows): # Similar to --> num_pattern_right (change from end='' to end=' ')\n",
    "    for row in range(1,totalrows+1):\n",
    "        for space in range(1, (totalrows-row)+1):\n",
    "            print(' ', end='')\n",
    "        for nums in range(1, row+1):\n",
    "            print('{0}'.format(nums), end=' ')\n",
    "        print()\n",
    "\n",
    "num_pattern_center(5)"
   ]
  },
  {
   "cell_type": "markdown",
   "metadata": {},
   "source": [
    "---"
   ]
  },
  {
   "cell_type": "code",
   "execution_count": 24,
   "metadata": {},
   "outputs": [
    {
     "name": "stdout",
     "output_type": "stream",
     "text": [
      "* * * * * \n",
      " * * * * \n",
      "  * * * \n",
      "   * * \n",
      "    * \n"
     ]
    }
   ],
   "source": [
    "def star_pattern_center_reverse(totalrows): # Similar to --> star_pattern_right_reverse (change from end='' to end=' ')\n",
    "    for row in range(1,totalrows+1):\n",
    "        for space in range(2, row+1):\n",
    "            print(' ', end='')\n",
    "        for symbol in range(1, (totalrows-row)+2):\n",
    "            print('*', end=' ')\n",
    "        print()\n",
    "\n",
    "star_pattern_center_reverse(5)"
   ]
  },
  {
   "cell_type": "markdown",
   "metadata": {},
   "source": [
    "---"
   ]
  },
  {
   "cell_type": "code",
   "execution_count": 25,
   "metadata": {},
   "outputs": [
    {
     "name": "stdout",
     "output_type": "stream",
     "text": [
      "1 2 3 4 5 \n",
      " 1 2 3 4 \n",
      "  1 2 3 \n",
      "   1 2 \n",
      "    1 \n"
     ]
    }
   ],
   "source": [
    "def num_pattern_center_reverse(totalrows): # Similar to --> num_pattern_right_reverse (change from end='' to end=' ')\n",
    "    for row in range(1,totalrows+1):\n",
    "        for space in range(2, row+1):\n",
    "            print(' ', end='')\n",
    "        for nums in range(1, (totalrows-row)+2):\n",
    "            print('{0}'.format(nums), end=' ')\n",
    "        print()\n",
    "\n",
    "num_pattern_center_reverse(5)"
   ]
  },
  {
   "cell_type": "markdown",
   "metadata": {},
   "source": [
    "---"
   ]
  },
  {
   "cell_type": "code",
   "execution_count": 29,
   "metadata": {},
   "outputs": [
    {
     "name": "stdout",
     "output_type": "stream",
     "text": [
      "    * \n",
      "   * * \n",
      "  * * * \n",
      " * * * * \n",
      "* * * * * \n",
      " * * * * \n",
      "  * * * \n",
      "   * * \n",
      "    * \n",
      "     \n"
     ]
    }
   ],
   "source": [
    "def star_pattern_diamond(totalrows): # Combination of --> star_pattern_center & star_pattern_center_reverse (change in num_pattern_center_reverse part --> second half)\n",
    "    for row in range(1,totalrows+1):\n",
    "        for space in range(1, (totalrows-row)+1):\n",
    "            print(' ', end='')\n",
    "        for symbol in range(1, row+1):\n",
    "            print('*', end=' ')\n",
    "        print()\n",
    "    for row in range(1,totalrows+1):\n",
    "        for space in range(2, row+2):\n",
    "            print(' ', end='')\n",
    "        for symbol in range(1, (totalrows-row)+1):\n",
    "            print('*', end=' ')\n",
    "        print()\n",
    "\n",
    "star_pattern_diamond(5)"
   ]
  },
  {
   "cell_type": "markdown",
   "metadata": {},
   "source": [
    "---"
   ]
  },
  {
   "cell_type": "code",
   "execution_count": 26,
   "metadata": {},
   "outputs": [
    {
     "name": "stdout",
     "output_type": "stream",
     "text": [
      "    1 \n",
      "   1 2 \n",
      "  1 2 3 \n",
      " 1 2 3 4 \n",
      "1 2 3 4 5 \n",
      " 1 2 3 4 \n",
      "  1 2 3 \n",
      "   1 2 \n",
      "    1 \n",
      "     \n"
     ]
    }
   ],
   "source": [
    "def num_pattern_diamond(totalrows): # Combination of --> num_pattern_center & num_pattern_center_reverse (change in num_pattern_center_reverse --> second half)\n",
    "    for row in range(1,totalrows+1):\n",
    "        for space in range(1, (totalrows-row)+1):\n",
    "            print(' ', end='')\n",
    "        for nums in range(1, row+1):\n",
    "            print('{0}'.format(nums), end=' ')\n",
    "        print()\n",
    "    for row in range(1,totalrows+1):\n",
    "        for space in range(2, row+2):\n",
    "            print(' ', end='')\n",
    "        for nums in range(1, (totalrows-row)+1):\n",
    "            print('{0}'.format(nums), end=' ')\n",
    "        print()\n",
    "\n",
    "num_pattern_diamond(5)"
   ]
  },
  {
   "cell_type": "markdown",
   "metadata": {},
   "source": [
    "---"
   ]
  },
  {
   "cell_type": "code",
   "execution_count": null,
   "metadata": {},
   "outputs": [],
   "source": []
  }
 ],
 "metadata": {
  "interpreter": {
   "hash": "11938c6bc6919ae2720b4d5011047913343b08a43b18698fd82dedb0d4417594"
  },
  "kernelspec": {
   "display_name": "Python 3.9.2 64-bit",
   "language": "python",
   "name": "python3"
  },
  "language_info": {
   "codemirror_mode": {
    "name": "ipython",
    "version": 3
   },
   "file_extension": ".py",
   "mimetype": "text/x-python",
   "name": "python",
   "nbconvert_exporter": "python",
   "pygments_lexer": "ipython3",
   "version": "3.9.2"
  },
  "orig_nbformat": 4
 },
 "nbformat": 4,
 "nbformat_minor": 2
}
