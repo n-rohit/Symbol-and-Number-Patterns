{
 "cells": [
  {
   "cell_type": "markdown",
   "metadata": {},
   "source": [
    "# Priniting Different Patters of Triangles in Python\n",
    "---\n",
    "---"
   ]
  },
  {
   "cell_type": "code",
   "execution_count": 192,
   "metadata": {},
   "outputs": [
    {
     "name": "stdout",
     "output_type": "stream",
     "text": [
      " *  *  *  *  * \n",
      " *  *  *  *  * \n",
      " *  *  *  *  * \n",
      " *  *  *  *  * \n",
      " *  *  *  *  * \n"
     ]
    }
   ],
   "source": [
    "def square_pattern(totalrows):\n",
    "    for row in range(totalrows):\n",
    "        print(' * '*totalrows)\n",
    "\n",
    "square_pattern(5)"
   ]
  },
  {
   "cell_type": "code",
   "execution_count": 232,
   "metadata": {},
   "outputs": [
    {
     "name": "stdout",
     "output_type": "stream",
     "text": [
      "*\n",
      "**\n",
      "***\n",
      "****\n",
      "*****\n"
     ]
    }
   ],
   "source": [
    "def star_triangle_pattern_left(totalrows):\n",
    "    for row in range(1,totalrows+1):\n",
    "        for symbol in range(1, row+1):\n",
    "            print('*', end='')\n",
    "        # for space in range(1, (totalrows-row)+1):\n",
    "        #     print(' ', end='')\n",
    "        print()\n",
    "\n",
    "star_triangle_pattern_left(5)"
   ]
  },
  {
   "cell_type": "markdown",
   "metadata": {},
   "source": [
    "                                                                OR  "
   ]
  },
  {
   "cell_type": "markdown",
   "metadata": {},
   "source": []
  },
  {
   "cell_type": "code",
   "execution_count": 198,
   "metadata": {},
   "outputs": [
    {
     "data": {
      "text/plain": [
       "\"\\ndef star_triangle_pattern_left(totalrows):\\n    list = []\\n    for row in range(1, totalrows+1):\\n        list.append('*')\\n        print(''.join(list))\\n    print('\\n')\\n\""
      ]
     },
     "execution_count": 198,
     "metadata": {},
     "output_type": "execute_result"
    }
   ],
   "source": [
    "'''\n",
    "def star_triangle_pattern_left(totalrows):\n",
    "    list = []\n",
    "    for row in range(1, totalrows+1):\n",
    "        list.append('*')\n",
    "        print(''.join(list))\n",
    "    print('\\n')\n",
    "'''"
   ]
  },
  {
   "cell_type": "markdown",
   "metadata": {},
   "source": [
    "                                                                OR  "
   ]
  },
  {
   "cell_type": "code",
   "execution_count": 199,
   "metadata": {},
   "outputs": [
    {
     "data": {
      "text/plain": [
       "\"\\ndef star_triangle_pattern_left(totalrows):\\n    for row in range(totalrows+1):\\n        print('*'*row)\\n\\nstar_pattern_left(5)\\n\""
      ]
     },
     "execution_count": 199,
     "metadata": {},
     "output_type": "execute_result"
    }
   ],
   "source": [
    "'''\n",
    "def star_triangle_pattern_left(totalrows):\n",
    "    for row in range(totalrows+1):\n",
    "        print('*'*row)\n",
    "\n",
    "star_pattern_left(5)\n",
    "'''"
   ]
  },
  {
   "cell_type": "markdown",
   "metadata": {},
   "source": [
    "---"
   ]
  },
  {
   "cell_type": "code",
   "execution_count": 231,
   "metadata": {},
   "outputs": [
    {
     "name": "stdout",
     "output_type": "stream",
     "text": [
      "1\n",
      "12\n",
      "123\n",
      "1234\n",
      "12345\n"
     ]
    }
   ],
   "source": [
    "def num_triangle_pattern_left(totalrows):\n",
    "    for row in range(1,totalrows+1):\n",
    "        for nums in range(1, row+1):\n",
    "            print('{0}'.format(nums), end='')\n",
    "        # for space in range(1, row+1):\n",
    "        #     print(' ', end='')\n",
    "        print()\n",
    "\n",
    "num_triangle_pattern_left(5)"
   ]
  },
  {
   "cell_type": "markdown",
   "metadata": {},
   "source": [
    "                                                                OR  "
   ]
  },
  {
   "cell_type": "code",
   "execution_count": 197,
   "metadata": {},
   "outputs": [
    {
     "data": {
      "text/plain": [
       "\"\\ndef num_triangle_pattern_left(totalrows):\\n    list = []\\n    for row in range(totalrows):\\n        list.append(str(row+1))\\n        print(''.join(list))\\n    print('\\n')\\n\""
      ]
     },
     "execution_count": 197,
     "metadata": {},
     "output_type": "execute_result"
    }
   ],
   "source": [
    "'''\n",
    "def num_triangle_pattern_left(totalrows):\n",
    "    list = []\n",
    "    for row in range(totalrows):\n",
    "        list.append(str(row+1))\n",
    "        print(''.join(list))\n",
    "    print('\\n')\n",
    "'''"
   ]
  },
  {
   "cell_type": "markdown",
   "metadata": {},
   "source": [
    "---"
   ]
  },
  {
   "cell_type": "code",
   "execution_count": 230,
   "metadata": {},
   "outputs": [
    {
     "name": "stdout",
     "output_type": "stream",
     "text": [
      "*****\n",
      "****\n",
      "***\n",
      "**\n",
      "*\n"
     ]
    }
   ],
   "source": [
    "def star_triangle_pattern_left_reverse(totalrows):\n",
    "    for row in range(1,totalrows+1):\n",
    "        for symbol in range(1, (totalrows-row)+2):\n",
    "            print('*', end='')\n",
    "        # for space in range(1, row+1):\n",
    "        #     print(' ', end='')\n",
    "        print()\n",
    "\n",
    "star_triangle_pattern_left_reverse(5)"
   ]
  },
  {
   "cell_type": "markdown",
   "metadata": {},
   "source": [
    "---"
   ]
  },
  {
   "cell_type": "code",
   "execution_count": 229,
   "metadata": {},
   "outputs": [
    {
     "name": "stdout",
     "output_type": "stream",
     "text": [
      "12345\n",
      "1234\n",
      "123\n",
      "12\n",
      "1\n"
     ]
    }
   ],
   "source": [
    "def num_triangle_pattern_left_reverse(totalrows):\n",
    "    for row in range(1,totalrows+1):\n",
    "        for nums in range(1, (totalrows-row)+2):\n",
    "            print('{0}'.format(nums), end='')\n",
    "        # for space in range(1, row+1):\n",
    "        #     print(' ', end='')\n",
    "        print()\n",
    "\n",
    "num_triangle_pattern_left_reverse(5)"
   ]
  },
  {
   "cell_type": "markdown",
   "metadata": {},
   "source": [
    "---"
   ]
  },
  {
   "cell_type": "code",
   "execution_count": 228,
   "metadata": {},
   "outputs": [
    {
     "name": "stdout",
     "output_type": "stream",
     "text": [
      "    *\n",
      "   **\n",
      "  ***\n",
      " ****\n",
      "*****\n"
     ]
    }
   ],
   "source": [
    "def star_triangle_pattern_right(totalrows):\n",
    "    for row in range(1,totalrows+1):\n",
    "        for space in range(1, (totalrows-row)+1):\n",
    "            print(' ', end='')\n",
    "        for symbol in range(1, row+1):\n",
    "            print('*', end='')\n",
    "        print()\n",
    "\n",
    "star_triangle_pattern_right(5)"
   ]
  },
  {
   "cell_type": "markdown",
   "metadata": {},
   "source": [
    "---"
   ]
  },
  {
   "cell_type": "code",
   "execution_count": 220,
   "metadata": {},
   "outputs": [
    {
     "name": "stdout",
     "output_type": "stream",
     "text": [
      "    1\n",
      "   12\n",
      "  123\n",
      " 1234\n",
      "12345\n"
     ]
    }
   ],
   "source": [
    "def num_triangle_pattern_right(totalrows):\n",
    "    for row in range(1,totalrows+1):\n",
    "        for space in range(1, (totalrows-row)+1):\n",
    "            print(' ', end='')\n",
    "        for nums in range(1, row+1):\n",
    "            print('{0}'.format(nums), end='')\n",
    "        print()\n",
    "\n",
    "num_triangle_pattern_right(5)"
   ]
  },
  {
   "cell_type": "markdown",
   "metadata": {},
   "source": [
    "---"
   ]
  },
  {
   "cell_type": "code",
   "execution_count": 219,
   "metadata": {},
   "outputs": [
    {
     "name": "stdout",
     "output_type": "stream",
     "text": [
      "*****\n",
      " ****\n",
      "  ***\n",
      "   **\n",
      "    *\n"
     ]
    }
   ],
   "source": [
    "def star_triangle_pattern_right_reverse(totalrows):\n",
    "    for row in range(1,totalrows+1):\n",
    "        for space in range(2, row+1):\n",
    "            print(' ', end='')\n",
    "        for symbol in range(1, (totalrows-row)+2):\n",
    "            print('*', end='')\n",
    "        print()\n",
    "\n",
    "star_triangle_pattern_right_reverse(5)"
   ]
  },
  {
   "cell_type": "markdown",
   "metadata": {},
   "source": [
    "---"
   ]
  },
  {
   "cell_type": "code",
   "execution_count": 233,
   "metadata": {},
   "outputs": [
    {
     "name": "stdout",
     "output_type": "stream",
     "text": [
      "12345\n",
      " 1234\n",
      "  123\n",
      "   12\n",
      "    1\n"
     ]
    }
   ],
   "source": [
    "def num_triangle_pattern_right_reverse(totalrows):\n",
    "    for row in range(1,totalrows+1):\n",
    "        for space in range(2, row+1):\n",
    "            print(' ', end='')\n",
    "        for nums in range(1, (totalrows-row)+2):\n",
    "            print('{0}'.format(nums), end='')\n",
    "        print()\n",
    "\n",
    "num_triangle_pattern_right_reverse(5)"
   ]
  },
  {
   "cell_type": "markdown",
   "metadata": {},
   "source": [
    "---"
   ]
  },
  {
   "cell_type": "code",
   "execution_count": 234,
   "metadata": {},
   "outputs": [
    {
     "name": "stdout",
     "output_type": "stream",
     "text": [
      "    * \n",
      "   * * \n",
      "  * * * \n",
      " * * * * \n",
      "* * * * * \n"
     ]
    }
   ],
   "source": [
    "def star_triangle_pattern_center(totalrows): # Similar to --> star_triangle_pattern_right (change from end='' to end=' ')\n",
    "    for row in range(1,totalrows+1):\n",
    "        for space in range(1, (totalrows-row)+1):\n",
    "            print(' ', end='')\n",
    "        for symbol in range(1, row+1):\n",
    "            print('*', end=' ')\n",
    "        print()\n",
    "\n",
    "star_triangle_pattern_center(5)"
   ]
  },
  {
   "cell_type": "markdown",
   "metadata": {},
   "source": [
    "---"
   ]
  },
  {
   "cell_type": "code",
   "execution_count": 235,
   "metadata": {},
   "outputs": [
    {
     "name": "stdout",
     "output_type": "stream",
     "text": [
      "    1 \n",
      "   1 2 \n",
      "  1 2 3 \n",
      " 1 2 3 4 \n",
      "1 2 3 4 5 \n"
     ]
    }
   ],
   "source": [
    "def num_triangle_pattern_center(totalrows): # Similar to --> num_triangle_pattern_right (change from end='' to end=' ')\n",
    "    for row in range(1,totalrows+1):\n",
    "        for space in range(1, (totalrows-row)+1):\n",
    "            print(' ', end='')\n",
    "        for nums in range(1, row+1):\n",
    "            print('{0}'.format(nums), end=' ')\n",
    "        print()\n",
    "\n",
    "num_triangle_pattern_center(5)"
   ]
  },
  {
   "cell_type": "markdown",
   "metadata": {},
   "source": [
    "---"
   ]
  },
  {
   "cell_type": "code",
   "execution_count": 236,
   "metadata": {},
   "outputs": [
    {
     "name": "stdout",
     "output_type": "stream",
     "text": [
      "* * * * * \n",
      " * * * * \n",
      "  * * * \n",
      "   * * \n",
      "    * \n"
     ]
    }
   ],
   "source": [
    "def star_triangle_pattern_center_reverse(totalrows): # Similar to --> star_triangle_pattern_right_reverse (change from end='' to end=' ')\n",
    "    for row in range(1,totalrows+1):\n",
    "        for space in range(2, row+1):\n",
    "            print(' ', end='')\n",
    "        for symbol in range(1, (totalrows-row)+2):\n",
    "            print('*', end=' ')\n",
    "        print()\n",
    "\n",
    "star_triangle_pattern_center_reverse(5)"
   ]
  },
  {
   "cell_type": "markdown",
   "metadata": {},
   "source": [
    "---"
   ]
  },
  {
   "cell_type": "code",
   "execution_count": 237,
   "metadata": {},
   "outputs": [
    {
     "name": "stdout",
     "output_type": "stream",
     "text": [
      "1 2 3 4 5 \n",
      " 1 2 3 4 \n",
      "  1 2 3 \n",
      "   1 2 \n",
      "    1 \n"
     ]
    }
   ],
   "source": [
    "def num_triangle_pattern_center_reverse(totalrows): # Similar to --> num_triangle_pattern_right_reverse (change from end='' to end=' ')\n",
    "    for row in range(1,totalrows+1):\n",
    "        for space in range(2, row+1):\n",
    "            print(' ', end='')\n",
    "        for nums in range(1, (totalrows-row)+2):\n",
    "            print('{0}'.format(nums), end=' ')\n",
    "        print()\n",
    "\n",
    "num_triangle_pattern_center_reverse(5)"
   ]
  },
  {
   "cell_type": "markdown",
   "metadata": {},
   "source": [
    "---"
   ]
  },
  {
   "cell_type": "code",
   "execution_count": 29,
   "metadata": {},
   "outputs": [
    {
     "name": "stdout",
     "output_type": "stream",
     "text": [
      "    * \n",
      "   * * \n",
      "  * * * \n",
      " * * * * \n",
      "* * * * * \n",
      " * * * * \n",
      "  * * * \n",
      "   * * \n",
      "    * \n",
      "     \n"
     ]
    }
   ],
   "source": [
    "def star_pattern_diamond(totalrows): # Combination of --> star_pattern_center & star_pattern_center_reverse (change in num_pattern_center_reverse part --> second half)\n",
    "    for row in range(1,totalrows+1):\n",
    "        for space in range(1, (totalrows-row)+1):\n",
    "            print(' ', end='')\n",
    "        for symbol in range(1, row+1):\n",
    "            print('*', end=' ')\n",
    "        print()\n",
    "    for row in range(1,totalrows+1):\n",
    "        for space in range(2, row+2):\n",
    "            print(' ', end='')\n",
    "        for symbol in range(1, (totalrows-row)+1):\n",
    "            print('*', end=' ')\n",
    "        print()\n",
    "\n",
    "star_pattern_diamond(5)"
   ]
  },
  {
   "cell_type": "markdown",
   "metadata": {},
   "source": [
    "---"
   ]
  },
  {
   "cell_type": "code",
   "execution_count": 19,
   "metadata": {},
   "outputs": [
    {
     "name": "stdout",
     "output_type": "stream",
     "text": [
      "    1 \n",
      "   1 2 \n",
      "  1 2 3 \n",
      " 1 2 3 4 \n",
      "1 2 3 4 5 \n",
      " 1 2 3 4 \n",
      "  1 2 3 \n",
      "   1 2 \n",
      "    1 \n",
      "     \n"
     ]
    }
   ],
   "source": [
    "def num_pattern_diamond(totalrows): # Combination of --> num_pattern_center & num_pattern_center_reverse (change in num_pattern_center_reverse --> second half)\n",
    "    for row in range(1,totalrows+1):\n",
    "        for space in range(1, (totalrows-row)+1):\n",
    "            print(' ', end='')\n",
    "        for nums in range(1, row+1):\n",
    "            print('{0}'.format(nums), end=' ')\n",
    "        print()\n",
    "    for row in range(1,totalrows+1):\n",
    "        for space in range(2, row+2):\n",
    "            print(' ', end='')\n",
    "        for nums in range(1, (totalrows-row)+1):\n",
    "            print('{0}'.format(nums), end=' ')\n",
    "        print()\n",
    "\n",
    "num_pattern_diamond(5)"
   ]
  },
  {
   "cell_type": "markdown",
   "metadata": {},
   "source": [
    "---"
   ]
  },
  {
   "cell_type": "code",
   "execution_count": 27,
   "metadata": {},
   "outputs": [
    {
     "name": "stdout",
     "output_type": "stream",
     "text": [
      "*\n",
      "**\n",
      "***\n",
      "****\n",
      "*****\n",
      "****\n",
      "***\n",
      "**\n",
      "*\n"
     ]
    }
   ],
   "source": [
    "def left_pyramid_pattern(totalrows): # Combination of --> star_pattern_left & star_pattern_left_reverse\n",
    "    for row in range(1,totalrows+1):\n",
    "        for symbol in range(1, row+1):\n",
    "            print('*', end='')\n",
    "        print()\n",
    "    for row in range(2,totalrows+1):\n",
    "        for symbol in range(1, (totalrows-row)+2):\n",
    "            print('*', end='')\n",
    "        print()\n",
    "    \n",
    "\n",
    "left_pyramid_pattern(5)"
   ]
  },
  {
   "cell_type": "markdown",
   "metadata": {},
   "source": [
    "---"
   ]
  },
  {
   "cell_type": "code",
   "execution_count": 24,
   "metadata": {},
   "outputs": [
    {
     "name": "stdout",
     "output_type": "stream",
     "text": [
      "    *\n",
      "   **\n",
      "  ***\n",
      " ****\n",
      "*****\n",
      " ****\n",
      "  ***\n",
      "   **\n",
      "    *\n",
      "     \n"
     ]
    }
   ],
   "source": [
    "def right_pyramid_pattern(totalrows): # Combination of --> star_pattern_right & star_pattern_right_reverse (change in star_pattern_right_reverse --> second half)\n",
    "    for row in range(1,totalrows+1):\n",
    "        for space in range(1, (totalrows-row)+1):\n",
    "            print(' ', end='')\n",
    "        for symbol in range(1, row+1):\n",
    "            print('*', end='')\n",
    "        print()\n",
    "    for row in range(1,totalrows+1):\n",
    "        for space in range(2, row+2):\n",
    "            print(' ', end='')\n",
    "        for symbol in range(2, (totalrows-row)+2):\n",
    "            print('*', end='')\n",
    "        print()\n",
    "\n",
    "right_pyramid_pattern(5)"
   ]
  },
  {
   "cell_type": "markdown",
   "metadata": {},
   "source": [
    "---"
   ]
  },
  {
   "cell_type": "code",
   "execution_count": 188,
   "metadata": {},
   "outputs": [
    {
     "name": "stdout",
     "output_type": "stream",
     "text": [
      " * * * * * \n",
      "  * * * * * \n",
      "   * * * * * \n",
      "    * * * * * \n",
      "     * * * * * \n"
     ]
    }
   ],
   "source": [
    "def parallelogram_pattern(totalrows):\n",
    "    space = ' '\n",
    "    for row in range(totalrows):\n",
    "        print(space + ' * '*totalrows)\n",
    "        space = space + ' '\n",
    "\n",
    "parallelogram_pattern(5)"
   ]
  },
  {
   "cell_type": "markdown",
   "metadata": {},
   "source": [
    "---"
   ]
  },
  {
   "cell_type": "code",
   "execution_count": 173,
   "metadata": {},
   "outputs": [
    {
     "name": "stdout",
     "output_type": "stream",
     "text": [
      "* * * * * \n",
      " * * * * \n",
      "  * * * \n",
      "   * * \n",
      "    * \n",
      "   * * \n",
      "  * * * \n",
      " * * * * \n",
      "* * * * * \n"
     ]
    }
   ],
   "source": [
    "def hourglass_pattern(totalrows): # Combination of --> star_pattern_center_reverse & star_pattern_center (change in star_pattern_center --> second half, first line)\n",
    "    for row in range(1,totalrows+1):\n",
    "        for space in range(2, row+1):\n",
    "            print(' ', end='')\n",
    "        for symbol in range(1, (totalrows-row)+2):\n",
    "            print('*', end=' ')\n",
    "        print()\n",
    "    for row in range(2,totalrows+1):\n",
    "        for space in range(1, (totalrows-row)+1):\n",
    "            print(' ', end='')\n",
    "        for symbol in range(1, row+1):\n",
    "            print('*', end=' ')\n",
    "        print()\n",
    "\n",
    "hourglass_pattern(5)"
   ]
  },
  {
   "cell_type": "markdown",
   "metadata": {},
   "source": [
    "---"
   ]
  },
  {
   "cell_type": "code",
   "execution_count": null,
   "metadata": {},
   "outputs": [],
   "source": [
    "def valley_pattern(totalrows):\n",
    "    print(\"*\" * totalrows, end=\"\\n\")\n",
    "    i = (totalrows // 2) - 1\n",
    "    j = 2\n",
    "    while i != 0:\n",
    "        while j <= (totalrows - 2):            # PENDING #\n",
    "            print('*' * i, end='')\n",
    "\n",
    "            print(' ' * j, end='')\n",
    "            print('*' * i)\n",
    "            i = i - 1\n",
    "            j = j + 2\n",
    "\n",
    "valley_pattern(16)"
   ]
  },
  {
   "cell_type": "markdown",
   "metadata": {},
   "source": [
    "---"
   ]
  },
  {
   "cell_type": "code",
   "execution_count": 11,
   "metadata": {},
   "outputs": [
    {
     "name": "stdout",
     "output_type": "stream",
     "text": [
      "****************\n",
      "*******  *******\n",
      "******    ******\n",
      "*****      *****\n",
      "****        ****\n",
      "***          ***\n",
      "**            **\n",
      "*              *\n"
     ]
    }
   ],
   "source": [
    "def trouser_pattern(totalrows):\n",
    "    print(\"*\" * totalrows, end=\"\\n\")\n",
    "    i = (totalrows // 2) - 1\n",
    "    j = 2\n",
    "    while i != 0:\n",
    "        while j <= (totalrows - 2):\n",
    "            print('*' * i, end='')\n",
    "\n",
    "            print(' ' * j, end='')\n",
    "            print('*' * i)\n",
    "            i = i - 1\n",
    "            j = j + 2\n",
    "\n",
    "trouser_pattern(16)"
   ]
  },
  {
   "cell_type": "markdown",
   "metadata": {},
   "source": [
    "---"
   ]
  },
  {
   "cell_type": "code",
   "execution_count": null,
   "metadata": {},
   "outputs": [],
   "source": [
    "def horizontal_hourglass_pattern(totalrows):\n",
    "    for row in range(1,totalrows+1):\n",
    "        for symbol in range(1, row+1):\n",
    "            print('*', end='')                          # PENDING #\n",
    "        print()\n",
    "    for row in range(2,totalrows+1):\n",
    "        for symbol in range(1, (totalrows-row)+2):\n",
    "            print('*', end='')\n",
    "        print()\n",
    "\n",
    "horizontal_hourglass_pattern(5)"
   ]
  },
  {
   "cell_type": "markdown",
   "metadata": {},
   "source": [
    "---"
   ]
  },
  {
   "cell_type": "code",
   "execution_count": 51,
   "metadata": {},
   "outputs": [
    {
     "name": "stdout",
     "output_type": "stream",
     "text": [
      "* * * * * \n",
      "*       * \n",
      "*       * \n",
      "*       * \n",
      "* * * * * \n"
     ]
    }
   ],
   "source": [
    "def hollow_square_pattern(totalrows):\n",
    "    for i in range(totalrows):\n",
    "        for j in range(totalrows):\n",
    "            if(i == 0 or i == totalrows - 1 or j == 0 or j == totalrows - 1):\n",
    "                print('*', end = ' ')\n",
    "            else:\n",
    "                print(' ', end = ' ')\n",
    "        print()\n",
    "\n",
    "hollow_square_pattern(5)"
   ]
  },
  {
   "cell_type": "markdown",
   "metadata": {},
   "source": [
    "---"
   ]
  },
  {
   "cell_type": "code",
   "execution_count": 119,
   "metadata": {},
   "outputs": [
    {
     "name": "stdout",
     "output_type": "stream",
     "text": [
      "*         \n",
      "* *       \n",
      "*   *     \n",
      "*     *   \n",
      "* * * * * \n"
     ]
    }
   ],
   "source": [
    "def hollow_triangle_left_pattern(totalrows):\n",
    "    for i in range(totalrows):\n",
    "        for j in range(totalrows):\n",
    "            if(i == totalrows - 1 or j == 0 or i==j):\n",
    "                print('*', end = ' ')\n",
    "            else:\n",
    "                print(' ', end = ' ')\n",
    "        print()\n",
    "\n",
    "hollow_triangle_left_pattern(5)"
   ]
  },
  {
   "cell_type": "markdown",
   "metadata": {},
   "source": [
    "---"
   ]
  },
  {
   "cell_type": "code",
   "execution_count": 120,
   "metadata": {},
   "outputs": [
    {
     "name": "stdout",
     "output_type": "stream",
     "text": [
      "        * \n",
      "      * * \n",
      "    *   * \n",
      "  *     * \n",
      "* * * * * \n"
     ]
    }
   ],
   "source": [
    "def hollow_triangle_right_pattern(totalrows):\n",
    "    for i in range(totalrows):\n",
    "        for j in range(totalrows):\n",
    "            if(i == totalrows - 1 or j == totalrows-1 or i+j == totalrows-1):\n",
    "                print('*', end = ' ')\n",
    "            else:\n",
    "                print(' ', end = ' ')\n",
    "        print()\n",
    "\n",
    "hollow_triangle_right_pattern(5)"
   ]
  },
  {
   "cell_type": "markdown",
   "metadata": {},
   "source": [
    "---"
   ]
  },
  {
   "cell_type": "code",
   "execution_count": 121,
   "metadata": {},
   "outputs": [
    {
     "name": "stdout",
     "output_type": "stream",
     "text": [
      "* * * * * \n",
      "*     *   \n",
      "*   *     \n",
      "* *       \n",
      "*         \n"
     ]
    }
   ],
   "source": [
    "def hollow_triangle_left_reverse_pattern(totalrows):\n",
    "    for i in range(totalrows):\n",
    "        for j in range(totalrows):\n",
    "            if(i == 0 or j == 0 or i+j == totalrows-1):\n",
    "                print('*', end = ' ')\n",
    "            else:\n",
    "                print(' ', end = ' ')\n",
    "        print()\n",
    "\n",
    "hollow_triangle_left_reverse_pattern(5)"
   ]
  },
  {
   "cell_type": "markdown",
   "metadata": {},
   "source": [
    "---"
   ]
  },
  {
   "cell_type": "code",
   "execution_count": 122,
   "metadata": {},
   "outputs": [
    {
     "name": "stdout",
     "output_type": "stream",
     "text": [
      "* * * * * \n",
      "  *     * \n",
      "    *   * \n",
      "      * * \n",
      "        * \n"
     ]
    }
   ],
   "source": [
    "def hollow_triangle_right_reverse_pattern(totalrows):\n",
    "    for i in range(totalrows):\n",
    "        for j in range(totalrows):\n",
    "            if(i == 0 or j == totalrows-1 or i==j):\n",
    "                print('*', end = ' ')\n",
    "            else:\n",
    "                print(' ', end = ' ')\n",
    "        print()\n",
    "\n",
    "hollow_triangle_right_reverse_pattern(5)"
   ]
  },
  {
   "cell_type": "markdown",
   "metadata": {},
   "source": [
    "---"
   ]
  },
  {
   "cell_type": "code",
   "execution_count": 141,
   "metadata": {},
   "outputs": [
    {
     "name": "stdout",
     "output_type": "stream",
     "text": [
      "        *         \n",
      "      *   *       \n",
      "    *       *     \n",
      "  *           *   \n",
      "*   *   *   *   * \n"
     ]
    }
   ],
   "source": [
    "def hollow_triangle_center_pattern(totalrows):\n",
    "    for i in range(1,totalrows+1):\n",
    "        for j in range(1,2*totalrows):\n",
    "            if((i == totalrows and j%2 != 0) or i+j == totalrows+1 or j-i==totalrows-1):\n",
    "                print('*', end = ' ')\n",
    "            else:\n",
    "                print(' ', end = ' ')\n",
    "        print()\n",
    "\n",
    "hollow_triangle_center_pattern(5)"
   ]
  },
  {
   "cell_type": "markdown",
   "metadata": {},
   "source": [
    "---"
   ]
  },
  {
   "cell_type": "code",
   "execution_count": 145,
   "metadata": {},
   "outputs": [
    {
     "name": "stdout",
     "output_type": "stream",
     "text": [
      "*   *   *   *   * \n",
      "  *           *   \n",
      "    *       *     \n",
      "      *   *       \n",
      "        *         \n"
     ]
    }
   ],
   "source": [
    "def hollow_triangle_center_reverse_pattern(totalrows):\n",
    "    for i in range(1,totalrows+1):\n",
    "        for j in range(1,2*totalrows):\n",
    "            if((i == 1 and j%2 != 0) or i==j or i+j == totalrows*2):\n",
    "                print('*', end = ' ')\n",
    "            else:\n",
    "                print(' ', end = ' ')\n",
    "        print()\n",
    "\n",
    "hollow_triangle_center_reverse_pattern(5)"
   ]
  },
  {
   "cell_type": "markdown",
   "metadata": {},
   "source": [
    "---"
   ]
  },
  {
   "cell_type": "code",
   "execution_count": 174,
   "metadata": {},
   "outputs": [
    {
     "name": "stdout",
     "output_type": "stream",
     "text": [
      "        *         \n",
      "      *   *       \n",
      "    *       *     \n",
      "  *           *   \n",
      "*               * \n",
      "  *           *   \n",
      "    *       *     \n",
      "      *   *       \n",
      "        *         \n"
     ]
    }
   ],
   "source": [
    "def hollow_diamond_pattern(totalrows): # Combination of --> hollow_triangle_center_pattern & hollow_triangle_center_reverse_pattern (small changes in both halves)\n",
    "    for i in range(1,totalrows+1):\n",
    "        for j in range(1,2*totalrows):\n",
    "            if(i+j == totalrows+1 or j-i==totalrows-1):\n",
    "                print('*', end = ' ')\n",
    "            else:\n",
    "                print(' ', end = ' ')\n",
    "        print()\n",
    "    for i in range(2,totalrows+1):\n",
    "        for j in range(1,2*totalrows):\n",
    "            if(i == j or i+j == totalrows*2):\n",
    "                print('*', end = ' ')\n",
    "            else:\n",
    "                print(' ', end = ' ')\n",
    "        print()\n",
    "\n",
    "hollow_diamond_pattern(5)"
   ]
  },
  {
   "cell_type": "markdown",
   "metadata": {},
   "source": [
    "---"
   ]
  },
  {
   "cell_type": "code",
   "execution_count": 172,
   "metadata": {},
   "outputs": [
    {
     "name": "stdout",
     "output_type": "stream",
     "text": [
      "*   *   *   *   * \n",
      "  *           *   \n",
      "    *       *     \n",
      "      *   *       \n",
      "        *         \n",
      "      *   *       \n",
      "    *       *     \n",
      "  *           *   \n",
      "*   *   *   *   * \n"
     ]
    }
   ],
   "source": [
    "def hollow_hourglass_pattern(totalrows): # Combination of --> hollow_triangle_center_reverse_pattern & hollow_triangle_center_pattern\n",
    "    for i in range(1,totalrows+1):       #                     (change in hollow_triangle_center_pattern --> second half, first line)\n",
    "        for j in range(1,2*totalrows):\n",
    "            if((i == 1 and j%2 != 0) or i==j or i+j == totalrows*2):\n",
    "                print('*', end = ' ')\n",
    "            else:\n",
    "                print(' ', end = ' ')\n",
    "        print()\n",
    "    for i in range(2,totalrows+1):\n",
    "        for j in range(1,2*totalrows):\n",
    "            if((i == totalrows and j%2 != 0) or i+j == totalrows+1 or j-i==totalrows-1):\n",
    "                print('*', end = ' ')\n",
    "            else:\n",
    "                print(' ', end = ' ')\n",
    "        print()\n",
    "\n",
    "hollow_hourglass_pattern(5)"
   ]
  },
  {
   "cell_type": "markdown",
   "metadata": {},
   "source": [
    "---"
   ]
  },
  {
   "cell_type": "code",
   "execution_count": 179,
   "metadata": {},
   "outputs": [
    {
     "name": "stdout",
     "output_type": "stream",
     "text": [
      "*               * \n",
      "  *           *   \n",
      "    *       *     \n",
      "      *   *       \n",
      "        *         \n",
      "      *   *       \n",
      "    *       *     \n",
      "  *           *   \n",
      "*               * \n"
     ]
    }
   ],
   "source": [
    "def x_pattern(totalrows): # Combination of --> hollow_triangle_center_reverse_pattern & hollow_triangle_center_pattern\n",
    "    for i in range(1,totalrows+1):       #                     (small change in 'if' statement in both halves)\n",
    "        for j in range(1,2*totalrows):\n",
    "            if(i==j or i+j == totalrows*2):\n",
    "                print('*', end = ' ')\n",
    "            else:\n",
    "                print(' ', end = ' ')\n",
    "        print()\n",
    "    for i in range(2,totalrows+1):\n",
    "        for j in range(1,2*totalrows):\n",
    "            if(i+j == totalrows+1 or j-i==totalrows-1):\n",
    "                print('*', end = ' ')\n",
    "            else:\n",
    "                print(' ', end = ' ')\n",
    "        print()\n",
    "\n",
    "x_pattern(5)"
   ]
  },
  {
   "cell_type": "markdown",
   "metadata": {},
   "source": [
    "---"
   ]
  },
  {
   "cell_type": "code",
   "execution_count": 191,
   "metadata": {},
   "outputs": [
    {
     "name": "stdout",
     "output_type": "stream",
     "text": [
      "    * * * * * \n",
      "   *       * \n",
      "  *       * \n",
      " *       * \n",
      "* * * * * \n"
     ]
    }
   ],
   "source": [
    "def hollow_parallelogram_pattern(totalrows):\n",
    "    for i in range(totalrows,0,-1):\n",
    "        for j in range(1,i):\n",
    "            print(' ', end='')\n",
    "        for k in range(totalrows):\n",
    "            if(i == 1 or i == totalrows or k == 0 or k == totalrows - 1):\n",
    "                print('*', end = ' ')\n",
    "            else:\n",
    "                print(' ', end = ' ')\n",
    "\n",
    "        print()\n",
    "\n",
    "hollow_parallelogram_pattern(5)"
   ]
  },
  {
   "cell_type": "markdown",
   "metadata": {},
   "source": [
    "---\n",
    "---"
   ]
  },
  {
   "cell_type": "code",
   "execution_count": 26,
   "metadata": {},
   "outputs": [],
   "source": [
    "__author__ = \"Rohit Nidimukkala\"\n",
    "__copyright__ = \"Copyright (C) 2022 Rohit Nidimukkala\"\n",
    "__license__ = \"Public Domain\""
   ]
  }
 ],
 "metadata": {
  "interpreter": {
   "hash": "11938c6bc6919ae2720b4d5011047913343b08a43b18698fd82dedb0d4417594"
  },
  "kernelspec": {
   "display_name": "Python 3.9.2 64-bit",
   "language": "python",
   "name": "python3"
  },
  "language_info": {
   "codemirror_mode": {
    "name": "ipython",
    "version": 3
   },
   "file_extension": ".py",
   "mimetype": "text/x-python",
   "name": "python",
   "nbconvert_exporter": "python",
   "pygments_lexer": "ipython3",
   "version": "3.9.2"
  },
  "orig_nbformat": 4
 },
 "nbformat": 4,
 "nbformat_minor": 2
}
